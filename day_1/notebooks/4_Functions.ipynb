{
 "cells": [
  {
   "cell_type": "markdown",
   "metadata": {},
   "source": [
    "# Functions in Python\n",
    "## Functions are objects in Python"
   ]
  },
  {
   "cell_type": "markdown",
   "metadata": {},
   "source": [
    "### Functions are callable objects in Python"
   ]
  },
  {
   "cell_type": "markdown",
   "metadata": {},
   "source": [
    "#### Functions are callable objects with their own syntax in Python"
   ]
  },
  {
   "cell_type": "markdown",
   "metadata": {},
   "source": [
    "A function in programming is related to the concept of a mathematical function. You can pass an argument to a function like `f(x)` and get a value in return `y = f(x)`. From there on the similarity becomes less and less.\n",
    "\n",
    "Functions are defined with the `def` keyword, maybe a shorthand for 'function _def_-inition'. \n",
    "\n",
    "\n",
    "Functions are special in Python. As special as objects.\n",
    "\n",
    "## 1 The function that does nothing\n",
    "Let's create a function that does nothing. Just because we can and because these are actually nice things to have."
   ]
  },
  {
   "cell_type": "code",
   "execution_count": null,
   "metadata": {},
   "outputs": [],
   "source": [
    "def identity_function(x):\n",
    "    return x"
   ]
  },
  {
   "cell_type": "markdown",
   "metadata": {},
   "source": [
    "Notice the `def` keyword starting the function definition followed by the name and a list of input arguments between `()`.<br>\n",
    "The body of the function consists in this case of a `return` statement that makes the function return exactly what was passed in."
   ]
  },
  {
   "cell_type": "markdown",
   "metadata": {},
   "source": [
    "## 2 The function that does something\n",
    "Let's see how we would make function that adds two things."
   ]
  },
  {
   "cell_type": "code",
   "execution_count": null,
   "metadata": {},
   "outputs": [],
   "source": [
    "def add(a, b):\n",
    "    return a + b\n",
    "\n",
    "print(add(2, 3))"
   ]
  },
  {
   "cell_type": "markdown",
   "metadata": {},
   "source": [
    "## Exercise\n",
    "Make a function that returns a boolean whether an input number is even or odd"
   ]
  },
  {
   "cell_type": "code",
   "execution_count": null,
   "metadata": {},
   "outputs": [],
   "source": []
  },
  {
   "cell_type": "markdown",
   "metadata": {},
   "source": [
    "## 3 Multiple returns\n",
    "Besides multiple function arguments a function can have multiple return values."
   ]
  },
  {
   "cell_type": "code",
   "execution_count": null,
   "metadata": {},
   "outputs": [],
   "source": [
    "import random\n",
    "\n",
    "def sum_and_count(transactions):\n",
    "    return sum(transactions), len(transactions)\n",
    "\n",
    "transactions = [random.randint(0, 100) for _ in range(10)]\n",
    "\n",
    "print(sum_and_count(transactions))"
   ]
  },
  {
   "cell_type": "markdown",
   "metadata": {},
   "source": [
    "## Exercise\n",
    "Create a function that uses the `sum_and_count` function to compute a mean amount over transactions."
   ]
  },
  {
   "cell_type": "code",
   "execution_count": null,
   "metadata": {},
   "outputs": [],
   "source": []
  },
  {
   "cell_type": "markdown",
   "metadata": {},
   "source": [
    "## 4 Keyword arguments\n",
    "Keyword arguments are a really strong feature of Python functions.<br>\n",
    "They allow more control over the way you call a function, with potentially a higher readability.<br>\n",
    "They allow you to set default values for the function arguments."
   ]
  },
  {
   "cell_type": "code",
   "execution_count": null,
   "metadata": {},
   "outputs": [],
   "source": [
    "def extend_account(account, extension_in_years=1):\n",
    "    return account + extension_in_years\n",
    "\n",
    "account = 0\n",
    "account = extend_account(account)\n",
    "print('account duration in years: ', account)\n",
    "account = extend_account(account, extension_in_years=2)\n",
    "print('account duration in years: ', account)"
   ]
  },
  {
   "cell_type": "markdown",
   "metadata": {},
   "source": [
    "## Exercise\n",
    "You are going to create a universal function.\n",
    "Make a function that accepts another function as an argument and applies it on the rest of its arguments. Look [here](https://www.saltycrane.com/blog/2008/01/how-to-use-args-and-kwargs-in-python/) for information on the use of the `*` symbol with function arguments."
   ]
  },
  {
   "cell_type": "code",
   "execution_count": null,
   "metadata": {},
   "outputs": [],
   "source": []
  },
  {
   "cell_type": "markdown",
   "metadata": {},
   "source": [
    "## Exercise Advanced : Do not do this at home\n",
    "### WARNING do not use mutable types as default values\n",
    "\n",
    "1. Write a function with one keyword argument with an empty list `[]` as default value\n",
    "2. Within the function append an integer to the list\n",
    "3. Call the function multiple times in a row\n",
    "4. Can you explain what you see?"
   ]
  },
  {
   "cell_type": "code",
   "execution_count": null,
   "metadata": {},
   "outputs": [],
   "source": []
  }
 ],
 "metadata": {
  "kernelspec": {
   "display_name": "Python 3",
   "language": "python",
   "name": "python3"
  },
  "language_info": {
   "codemirror_mode": {
    "name": "ipython",
    "version": 3
   },
   "file_extension": ".py",
   "mimetype": "text/x-python",
   "name": "python",
   "nbconvert_exporter": "python",
   "pygments_lexer": "ipython3",
   "version": "3.6.3"
  }
 },
 "nbformat": 4,
 "nbformat_minor": 2
}
