{
 "cells": [
  {
   "cell_type": "markdown",
   "metadata": {},
   "source": [
    "# The Python Way\n",
    "This notebook will give you an idea of what Python is. Any cell in the notebook can be executed, by pressing `Shift + Enter`\n",
    "\n",
    "## What is Python?\n",
    "From the excellent [Python tutorial](https://docs.python.org/3/tutorial/): \n",
    "\n",
    "\"Python is an easy to learn, powerful programming language. It has efficient _high-level data structures_ and a simple but effective approach to object-oriented programming. Python’s _elegant syntax_ and _dynamic typing_, together with its _interpreted nature_, make it an ideal language for scripting and rapid application development in many areas on most platforms.\"\n",
    "\n",
    "I would add that Python is indeed easy to learn, but hard to master!\n",
    "\n",
    "This notebook will start explaining the _italic concepts_ in the above descripton."
   ]
  },
  {
   "cell_type": "markdown",
   "metadata": {},
   "source": [
    "### 1 Interpreted nature\n",
    "Python is interpreted. What does that mean? Python is a program that reads your code and performs the operations you have programmed. Reading and performing your code happens at the same time and is done by the Python interpreter. The Python interpreter makes assumptions and guesses about what you mean. Python can also reflect on the operations it is performing.\n",
    "\n"
   ]
  },
  {
   "cell_type": "code",
   "execution_count": null,
   "metadata": {},
   "outputs": [],
   "source": [
    "1 + 1"
   ]
  },
  {
   "cell_type": "markdown",
   "metadata": {},
   "source": [
    "After pressing `Shift + Enter` in the previous notebook cell, the Python intepreter is passed the string `1 + 1`. It tries to understand what it means, it computes the result and returns the result when ready. In our case, the jupyter notebook communicates with the Python kernel, which contains a Python interpreter."
   ]
  },
  {
   "cell_type": "markdown",
   "metadata": {},
   "source": [
    "### 2 Dynamic typing\n",
    "A data type can be things such an integer, float, string or list. In many programming languages types are in your face when writing code, with Python this is not the case.<br>\n",
    "Yes Python has types, but the general idea is not to think about them too much. Why so? Python typing is what they call 'duck typing'. It goes like this:\n",
    "\n",
    "_If it walks like a duck._<br>\n",
    "_It it quaks like a duck._<br>\n",
    "_It is most likely a duck._<br>\n",
    "\n",
    "In other words: Your Python code should focus on the properties and capabilities of the values you are manipulating and not on its specific type.\n",
    "\n",
    "**T**his is all nice and philosphical, but can you be more concrete?<br>\n",
    "\n",
    "Python checks data types on the fly, so you will get hit by errors about mismatching [types](https://docs.python.org/3/library/stdtypes.html) while running a program.\n",
    "\n",
    "Python has a really flexible type system. This means It will not complain often about wrong data types, but it might be doing something else then you expect.\n",
    "\n",
    "Some examples:"
   ]
  },
  {
   "cell_type": "code",
   "execution_count": null,
   "metadata": {},
   "outputs": [],
   "source": [
    "num_repeats = 10  # integer\n",
    "pattern = 'snake'  # string\n",
    "print(pattern * num_repeats)  # integer * string!??"
   ]
  },
  {
   "cell_type": "code",
   "execution_count": null,
   "metadata": {},
   "outputs": [],
   "source": [
    "bad_monty_python_movies = None  # did you know Python comes from Monty Python?\n",
    "bad_monty_python_movies + 1  #  Causes TypeError, can not add None Type with Integer Type"
   ]
  },
  {
   "cell_type": "markdown",
   "metadata": {},
   "source": [
    "### 3 Elegant syntax\n",
    "Python code can be beautiful in an elegant way. The following code blocks have the same functionality, which one do you like best?"
   ]
  },
  {
   "cell_type": "markdown",
   "metadata": {},
   "source": [
    "example 1"
   ]
  },
  {
   "cell_type": "code",
   "execution_count": null,
   "metadata": {},
   "outputs": [],
   "source": [
    "patients = ['A', 'B']\n",
    "for patient in patients:\n",
    "    print('subject {patient}'.format(patient=patient))"
   ]
  },
  {
   "cell_type": "code",
   "execution_count": null,
   "metadata": {},
   "outputs": [],
   "source": [
    "patients = ['A', 'B']\n",
    "for i in range(len(patients)):\n",
    "    print('subject ' + patients[i])"
   ]
  },
  {
   "cell_type": "markdown",
   "metadata": {},
   "source": [
    "example 2"
   ]
  },
  {
   "cell_type": "code",
   "execution_count": null,
   "metadata": {},
   "outputs": [],
   "source": [
    "number_of_missing_values = 0  # this is assumed to be a positive integer\n",
    "if number_of_missing_values > 0:\n",
    "    print('there are missing values')"
   ]
  },
  {
   "cell_type": "code",
   "execution_count": null,
   "metadata": {},
   "outputs": [],
   "source": [
    "number_of_missing_values = 0\n",
    "if number_of_missing_values:\n",
    "    print('there are missing values')"
   ]
  },
  {
   "cell_type": "markdown",
   "metadata": {},
   "source": [
    "example 3"
   ]
  },
  {
   "cell_type": "code",
   "execution_count": null,
   "metadata": {},
   "outputs": [],
   "source": [
    "number_of_examples = 2\n",
    "number_of_examples = number_of_examples + 1\n",
    "print('The number of examples is ' + str(number_of_examples) + '.')"
   ]
  },
  {
   "cell_type": "code",
   "execution_count": null,
   "metadata": {},
   "outputs": [],
   "source": [
    "number_of_examples = 2\n",
    "number_of_examples += 1\n",
    "print('The number of examples is {number_of_examples}.'.format(number_of_examples=number_of_examples))"
   ]
  },
  {
   "cell_type": "markdown",
   "metadata": {},
   "source": [
    "### 4 High-level data structures\n",
    "'High-level' is an often misunderstood word. In the context of Python it means: easy to work with data structures with advanced features.<br>\n",
    "The set of available data structures is limited, but powerful enough to match most needs.<br>\n",
    "Python relies heavily on its **Dictionary** data type."
   ]
  },
  {
   "cell_type": "markdown",
   "metadata": {},
   "source": [
    "### 4.1 Dictionary\n",
    "Think about a language dictionary. How does it work. There is a keyword like _'hash'_ and a list of meanings, in this case one is _'a mess, jumble, or muddle'_. A Python dictionary is a key and a value container and contains these (key, value) pairs in an _efficient_ manner. The time it takes to get a value out of a dictionary with a key is approximately constant for all keys."
   ]
  },
  {
   "cell_type": "code",
   "execution_count": null,
   "metadata": {},
   "outputs": [],
   "source": [
    "# A dictionary literal is recognisable by the two mustaches\n",
    "{}\n",
    "# it can also be defined by the function\n",
    "dict()\n",
    "\n",
    "# to put a key, value pair in a dictionary you can write it as a literal\n",
    "{'key': 'value'}\n",
    "\n",
    "# you can create a dictionary from such a literal\n",
    "medicine = {'headache': 'ubiprofen'}\n",
    "\n",
    "# you can extend an existing dictionary by adding a value, while registering its key\n",
    "medicine['fever'] = 'aspirine'"
   ]
  },
  {
   "cell_type": "markdown",
   "metadata": {},
   "source": [
    "Let's write a basic program with dictionaries"
   ]
  },
  {
   "cell_type": "code",
   "execution_count": null,
   "metadata": {},
   "outputs": [],
   "source": [
    "sickness = {'A': 'fever', 'B': 'headache'}\n",
    "for patient in sickness:\n",
    "    print('patient {patient} needs {medicine}.'.format(patient=patient,\n",
    "                                                       medicine=medicine[sickness[patient]]))"
   ]
  },
  {
   "cell_type": "markdown",
   "metadata": {},
   "source": [
    "#### 4.1.1 Lazy dictionary keys and values\n",
    "Python 3 has moved to a heavier use of lazy iterators compared to Python 2. One clear difference is the behavior of the keys and values attributes of a dictionary. In Python 2 these were straight lists.\n",
    "\n",
    "The lazy iterators are more optimal, because a dictionary is really dynamic and the keys it contains can change at any moment."
   ]
  },
  {
   "cell_type": "code",
   "execution_count": null,
   "metadata": {},
   "outputs": [],
   "source": [
    "print('lazy collection of keys:', medicine.keys())\n",
    "\n",
    "# The keys attribute of a dictionary are of type 'dict_keys', how fitting.\n",
    "print(type(medicine.keys()))\n",
    "\n",
    "# to create a list of keys we have to force it to a list\n",
    "print('list of keys:', list(medicine.keys()))\n",
    "\n",
    "print('lazy collection of values:', medicine.values())\n",
    "print('list of values:', list(medicine.values()))"
   ]
  },
  {
   "cell_type": "markdown",
   "metadata": {},
   "source": [
    "### 4.2 Nesting\n",
    "Python data structures can be nested. Here we will show an example for the dictionary."
   ]
  },
  {
   "cell_type": "code",
   "execution_count": null,
   "metadata": {},
   "outputs": [],
   "source": [
    "inception_review = {'summary': 'It is ok. It got hyped a lot.'}\n",
    "movie_reviews = {'inception': inception_review}\n",
    "product_reviews = {'movies': movie_reviews}\n",
    "\n",
    "print(product_reviews['movies']['inception']['summary'])\n"
   ]
  },
  {
   "cell_type": "markdown",
   "metadata": {},
   "source": [
    "##### Warning: Keep your data structures as flat as is appropriate\n",
    "Yes we can nest these two dictionaries, but do we want to?\n",
    "Yes we can put a list of list in a dictionary of a dictionary, but what does it mean?<br>\n",
    "Always ask yourself questions like these when nesting data structures. If you are not critical enough, you might end up with a hard to understand data structure, which becomes slow to proces."
   ]
  },
  {
   "cell_type": "markdown",
   "metadata": {},
   "source": [
    "Appropriate"
   ]
  },
  {
   "cell_type": "code",
   "execution_count": null,
   "metadata": {},
   "outputs": [],
   "source": [
    "personal_data = {'first_name': 'Alice', 'partner': 'Bob', 'credit_card_number': '5105105105105100'}\n",
    "personal_data_partner = {'first_name': 'Bob', 'credit_card_number': None}\n",
    "\n",
    "persons = {'Alice': personal_data, 'Bob': personal_data_partner}"
   ]
  },
  {
   "cell_type": "markdown",
   "metadata": {},
   "source": [
    "Inappropriate"
   ]
  },
  {
   "cell_type": "code",
   "execution_count": null,
   "metadata": {},
   "outputs": [],
   "source": [
    "personal_data_partner = {'first_name': 'Bob', 'credit_card_number': None}\n",
    "personal_data_alice = {'first_name': 'Alice', 'partner': personal_data_partner, 'credit_card_number': '5105105105105100'}\n",
    "print(personal_data_alice)"
   ]
  },
  {
   "cell_type": "markdown",
   "metadata": {},
   "source": [
    "### 4.3 List\n",
    "The List is the next most powerful data structure in Python, but not the most efficient. It is a **dynamic array**.<br>\n",
    "It is an Array, because data elements can be inserted and deleted with an index value (starting at 0). And it is dynamic, because items can be inserted and deleted from anywhere in the list. In this sense a Python `list` is similar to a Javascript Array.\n",
    "\n",
    "**nota bene** The elements in a list have a defined order (from left to right). The elements in a vanilla dictionary do not have any (guaranteed) order."
   ]
  },
  {
   "cell_type": "code",
   "execution_count": null,
   "metadata": {},
   "outputs": [],
   "source": [
    "# A list can be written as the literal\n",
    "[]\n",
    "# or the function\n",
    "list()\n",
    "\n",
    "# elements are ordered from left to right\n",
    "fruit = ['apples', 'pears', 'oranges']\n",
    "\n",
    "# first element\n",
    "print(fruit[0])\n",
    "\n",
    "# second element\n",
    "print(fruit[1])\n",
    "\n",
    "# the odd comparison\n",
    "print('apples vs. pears:', fruit[0] == fruit[1])\n",
    "\n",
    "# length of a list\n",
    "print('fruit length:', len(fruit))\n",
    "assert len(fruit) == 3  # assert that there are three elements in a list\n",
    "\n",
    "fruit[4]"
   ]
  },
  {
   "cell_type": "markdown",
   "metadata": {},
   "source": [
    "Whenever you need order in your program you will probably use a list or a tuple (up next). A list is dynamic and can be indexed, sliced and cut. You will often iterate over a list, meaning getting each element one-by-one and performing some block of code on it.\n",
    "\n",
    "Let's look at how a for loop can consume a list."
   ]
  },
  {
   "cell_type": "code",
   "execution_count": null,
   "metadata": {},
   "outputs": [],
   "source": [
    "my_top_five_favorite_foods = ['pizza', 'hamburgers', 'fried egg', 'quinoa salad']\n",
    "\n",
    "for food in my_top_five_favorite_foods:\n",
    "    print('one of my favorite foods is: {food}'.format(food=food))\n",
    "\n",
    "\n",
    "for index, food in enumerate(my_top_five_favorite_foods):\n",
    "    print('favorite food number {index} is {food}'.format(index=index, food=food))"
   ]
  },
  {
   "cell_type": "markdown",
   "metadata": {},
   "source": [
    "Please note the use of `enumerate` to get the index of an element in a sequence while looping over it. This makes things a lot more elegent."
   ]
  },
  {
   "cell_type": "markdown",
   "metadata": {},
   "source": [
    "### Zero indexing!!! Zero indexing!!!\n",
    "hmm what does favorite food number `0` mean? Is it my favorite or my least favorite?<br>\n",
    "Everything in Python starts at `0`. This is a major difference between languages like C, Python and Matlab, Julia.\n",
    "Thus it is my most favorite food :)\n",
    "\n",
    "Please be aware of zero-indexing and try to see if any bugs you have in your code depend on you assuming one-indexing."
   ]
  },
  {
   "cell_type": "markdown",
   "metadata": {},
   "source": [
    "### 4.3.1 Slicing sequences\n",
    "A List is a [Sequence](https://docs.python.org/3/library/stdtypes.html#sequence-types-list-tuple-range) of elements. It can be sliced! Slicing means cutting the Sequence with a start, end and a step. Slicing is done by way of [Ranges](https://www.pythoncentral.io/pythons-range-function-explained/). \n",
    "\n"
   ]
  },
  {
   "cell_type": "code",
   "execution_count": null,
   "metadata": {
    "scrolled": true
   },
   "outputs": [],
   "source": [
    "# Let's slice some pizza!\n",
    "pizza_ingredients = ['pineapple', 'salami', 'cheese', 'mushrooms', 'ham']\n",
    "\n",
    "# Can I have the pizza without the pineapple please?\n",
    "start_index = 1\n",
    "my_pizza = pizza_ingredients[start_index:]  # starting from 1 to the end of the list\n",
    "print('no pinapple', my_pizza)\n",
    "\n",
    "# Can I have the pizza without mushrooms and ham?\n",
    "end_index = 3\n",
    "my_pizza = pizza_ingredients[:end_index]\n",
    "print('no mushrooms and ham', my_pizza)\n",
    "\n",
    "# Can I have only pineapple and cheese?\n",
    "start_index = 0\n",
    "end_index = 4\n",
    "step_size = 2\n",
    "my_slices = pizza_ingredients[start_index:end_index:step_size]\n",
    "print('I will eat', my_slices)\n",
    "print('I will eat', ' and '.join(my_slices))\n",
    "\n",
    "\n"
   ]
  },
  {
   "cell_type": "markdown",
   "metadata": {},
   "source": [
    "Look at the last example, why was 'ham' not included in the slice?\n",
    "\n",
    "Weird eh?<br>\n",
    "This is due the nature of zero-indexing.<br>\n",
    "If I ask python to give me the first 4 element, \n",
    "it will give me:<br>\n",
    "element 0, 1, 2, 3 (4 is **not** included)<br>\n",
    "If I ask Matlab or Julia I get:<br>\n",
    "element 1, 2, 3, 4 (4 is included)\n",
    "\n",
    "so:"
   ]
  },
  {
   "cell_type": "code",
   "execution_count": null,
   "metadata": {},
   "outputs": [],
   "source": [
    "list(range(0, 5, 2))"
   ]
  },
  {
   "cell_type": "code",
   "execution_count": null,
   "metadata": {},
   "outputs": [],
   "source": [
    "assert list(range(4)) == [0, 1, 2, 3]\n",
    "assert len(pizza_ingredients[0:4]) == 4\n",
    "assert list(range(1,4)) == [1, 2, 3]\n",
    "assert len(pizza_ingredients[1:4]) == 3"
   ]
  },
  {
   "cell_type": "markdown",
   "metadata": {},
   "source": [
    "### 4.4 Tuple\n",
    "The tuple is a highly optimized data structure. Once you created a Tuple, you can never go back. It is **immutable**. Mutability will be described later on.\n",
    "\n",
    "A tuple can only be created and never changed. If you try to alter a tuple in Python code it will throw a `TypeError`"
   ]
  },
  {
   "cell_type": "code",
   "execution_count": null,
   "metadata": {},
   "outputs": [],
   "source": [
    "# A tuple literal is complicated. It can not be empty and it demands an ','\n",
    "(1)  # is not good, because it can not be distinguished from redundant braces\n",
    "(1,)  # is a tuple literal with one element\n",
    "\n",
    "# The tuple function can create an empty tuple, which is quite useless :)\n",
    "tuple()\n",
    "\n",
    "# Let's create a nested tuple and see if we can alter it after creation\n",
    "twins = (('harry', 'richard'), ('alice', 'eve'))\n",
    "twins[0][0] = 'linda' # Let's overwrite harry to linda."
   ]
  },
  {
   "cell_type": "markdown",
   "metadata": {},
   "source": [
    "## Exercise: Data types and structures\n",
    "Suppose you are the IT guy at a local school.\n",
    "What would be a good way to store all the grades for a course for one student (f.i. History)? (grades are on a scale from 1 to 10).<br>\n",
    "Provide an example below."
   ]
  },
  {
   "cell_type": "code",
   "execution_count": null,
   "metadata": {},
   "outputs": [],
   "source": []
  },
  {
   "cell_type": "markdown",
   "metadata": {},
   "source": [
    "Most courses have multiple grades and re-exams. How will you store the grades for each course?<br>\n",
    "_Remember, explicit is better than implicit_"
   ]
  },
  {
   "cell_type": "code",
   "execution_count": null,
   "metadata": {},
   "outputs": [],
   "source": []
  },
  {
   "cell_type": "markdown",
   "metadata": {},
   "source": [
    "Of course there are more than one subject in high school. How would you store grades across subjects? "
   ]
  },
  {
   "cell_type": "code",
   "execution_count": null,
   "metadata": {},
   "outputs": [],
   "source": []
  },
  {
   "cell_type": "markdown",
   "metadata": {},
   "source": [
    "The school has many students. How will you store all the grades across students?"
   ]
  },
  {
   "cell_type": "code",
   "execution_count": null,
   "metadata": {},
   "outputs": [],
   "source": []
  },
  {
   "cell_type": "markdown",
   "metadata": {},
   "source": [
    "## 5 Compare and manipulate data structures"
   ]
  },
  {
   "cell_type": "markdown",
   "metadata": {},
   "source": [
    "### 5.1 Test if an element is in a container\n",
    "Comparing the container (data structure) with other containers is not so useful.<br>\n",
    "Checking whether a certain element exists within a container certainly is!"
   ]
  },
  {
   "cell_type": "code",
   "execution_count": null,
   "metadata": {},
   "outputs": [],
   "source": [
    "blocked_countries = ('US', 'AU', 'GB', 'CA')\n",
    "\n",
    "# Check if country is blocked\n",
    "country = 'GB'\n",
    "country_is_blocked = country in blocked_countries\n",
    "print('{country} is blocked: {is_blocked}'.format(\n",
    "     country=country, is_blocked=country_is_blocked))\n",
    "\n",
    "# Check if customer is blocked\n",
    "ipv6 = '001:0db8:85a3:0000:0000:8a2e:0370:7334'\n",
    "blocked_ips = [ipv6]\n",
    "\n",
    "customer = {'id': '100000521',\n",
    "            'country': 'NL',\n",
    "            'ip': ipv6}\n",
    "\n",
    "customer_is_blocked = customer['country'] in blocked_countries or customer['ip'] in blocked_ips\n",
    "print('customer {customer_id} is blocked: {is_blocked}'.format(\n",
    "    customer_id=customer['id'], is_blocked=customer_is_blocked))"
   ]
  },
  {
   "cell_type": "markdown",
   "metadata": {},
   "source": [
    "## Exercise\n",
    "Generate a list of 10 elements  of random integers between 0 and 100 an test whether a number between 0 and 100 is in the list. (hint: check the `random` library [link](https://docs.python.org/3/library/random.html))"
   ]
  },
  {
   "cell_type": "code",
   "execution_count": null,
   "metadata": {},
   "outputs": [],
   "source": []
  },
  {
   "cell_type": "markdown",
   "metadata": {},
   "source": [
    "### 5.2 Identity and equality\n",
    "To compare identity and equality are different things in Python. A one-egg human twin might be almost equal, but they are not identical.<br>\n",
    "In the same sense two mutable objects might be equal, they will never be identical. Unless there is actually only one underlying object.\n",
    "\n",
    "Equality is checked with the `==` operator.\n",
    "Identity is checked with the `is` operator"
   ]
  },
  {
   "cell_type": "code",
   "execution_count": null,
   "metadata": {},
   "outputs": [],
   "source": [
    "transactions = ['gas', 'food', 'rent', 'transport']\n",
    "copy_of_transactions = transactions[:]  # slicing all elements in a Python list makes a copy of the list\n",
    "\n",
    "print('equal:', transactions == copy_of_transactions)\n",
    "print('identical:', transactions is copy_of_transactions)\n"
   ]
  },
  {
   "cell_type": "markdown",
   "metadata": {},
   "source": [
    "It is adviced to **only** use `is` with atomic values like `None`, `True`, `False`."
   ]
  },
  {
   "cell_type": "code",
   "execution_count": null,
   "metadata": {},
   "outputs": [],
   "source": [
    "age = None\n",
    "\n",
    "if age is None:\n",
    "    print('missing value for age')"
   ]
  },
  {
   "cell_type": "markdown",
   "metadata": {},
   "source": [
    "Using `is` where you actually want to check for equality can lead to subtle bugs."
   ]
  },
  {
   "cell_type": "code",
   "execution_count": null,
   "metadata": {},
   "outputs": [],
   "source": [
    "assert 1 is 1"
   ]
  },
  {
   "cell_type": "code",
   "execution_count": null,
   "metadata": {},
   "outputs": [],
   "source": [
    "assert {'check': True} is {'check': True}"
   ]
  },
  {
   "cell_type": "markdown",
   "metadata": {},
   "source": [
    "### 5.3 Lets convert between dictionary, list and tuple\n",
    "There are many ways to switch between a dictionary, list and tuple.\n",
    "\n",
    "One of the nicest one is to `zip` various Sequences and create a dictionary out of them."
   ]
  },
  {
   "cell_type": "code",
   "execution_count": null,
   "metadata": {},
   "outputs": [],
   "source": [
    "ingredients = ['ham', 'bacon', 'spam']\n",
    "quantities = [1, 3, 2]\n",
    "\n",
    "zipped = zip(ingredients, quantities)  # this creates an iterator of (ingredient, quantity) pairs\n",
    "\n",
    "# let's empty the iterator into a tuple\n",
    "zipped = tuple(zipped)\n",
    "print('tuple:', zipped)\n",
    "\n",
    "print('dictionary:', dict(zipped))"
   ]
  },
  {
   "cell_type": "markdown",
   "metadata": {},
   "source": [
    "Let's convert the keys and values in a dictionary to lists."
   ]
  },
  {
   "cell_type": "code",
   "execution_count": null,
   "metadata": {},
   "outputs": [],
   "source": [
    "shopping_list = dict(zip(ingredients, quantities))\n",
    "\n",
    "keys = list(shopping_list.keys())\n",
    "print('keys', keys)\n",
    "\n",
    "values = list(shopping_list.values())\n",
    "print('values', values)"
   ]
  },
  {
   "cell_type": "markdown",
   "metadata": {},
   "source": [
    "## 6 Advanced\n",
    "### 6.1 Advanced: Mutability\n",
    "A mutable data structure can be changed without loosing its identity. In Python terms the 'identity' of an object is a unique, constant integer (or long integer) that exists for the length of the object's life.<br>\n",
    "\n",
    "When you update a dictionary or list you keep the same dictionary or list.<br>\n",
    "But, when you update a string or tuple, you get a completely new string or tuple.\n",
    "\n",
    "If an object can be updated without changing its identity it is 'mutable'.\n",
    "\n",
    "\n",
    "Let's look at a few examples"
   ]
  },
  {
   "cell_type": "code",
   "execution_count": null,
   "metadata": {},
   "outputs": [],
   "source": [
    "name = 'John'\n",
    "print('before', id(name))\n",
    "\n",
    "name = name + ' Smith'\n",
    "print('after', id(name))"
   ]
  },
  {
   "cell_type": "markdown",
   "metadata": {},
   "source": [
    "The long integer is the `id` of the object.<br>\n",
    "Observe that the `id` is different after you updated the `name` variable with the last name ' Smith'."
   ]
  },
  {
   "cell_type": "code",
   "execution_count": null,
   "metadata": {},
   "outputs": [],
   "source": [
    "fruits = ['apples', 'pears']\n",
    "print('before', id(fruits))\n",
    "\n",
    "fruits.append('oranges')\n",
    "print('after', id(fruits))"
   ]
  },
  {
   "cell_type": "markdown",
   "metadata": {},
   "source": [
    "Observe that the `id` is **identical** after you updated the `fruits` variable, by appending 'oranges'."
   ]
  },
  {
   "cell_type": "markdown",
   "metadata": {},
   "source": [
    "### 6.2 Advanced: Hashable\n",
    "Hashable data structure types are strongly related to immutable data structure types. Aha, two weird words, interesting! \n",
    "\n",
    "**Main point:** To function as a key in a dictionary a data type has to be hashable and thus immutable."
   ]
  },
  {
   "cell_type": "markdown",
   "metadata": {},
   "source": [
    "A list such as `fruits` is not hashable. It's magic hash function `__hash__` is not defined and is equal to `None`."
   ]
  },
  {
   "cell_type": "code",
   "execution_count": null,
   "metadata": {},
   "outputs": [],
   "source": [
    "fruits.__hash__ is None  # a list is not hashable"
   ]
  },
  {
   "cell_type": "code",
   "execution_count": null,
   "metadata": {},
   "outputs": [],
   "source": [
    "name.__hash__ is not None  # a string is hashable"
   ]
  },
  {
   "cell_type": "markdown",
   "metadata": {},
   "source": [
    "A string is hashable. Calling its hash function returns a weird number."
   ]
  },
  {
   "cell_type": "markdown",
   "metadata": {},
   "source": [
    "**note** you can read more about hash functions [here](https://en.wikipedia.org/wiki/Cryptographic_hash_function)."
   ]
  },
  {
   "cell_type": "code",
   "execution_count": null,
   "metadata": {},
   "outputs": [],
   "source": [
    "name.__hash__()"
   ]
  },
  {
   "cell_type": "markdown",
   "metadata": {},
   "source": [
    "Let's see if this number changes when we transform the string to a new string."
   ]
  },
  {
   "cell_type": "code",
   "execution_count": null,
   "metadata": {},
   "outputs": [],
   "source": [
    "name = 'John'\n",
    "print('before', name.__hash__())\n",
    "\n",
    "name = name + ' Smith'\n",
    "print('after', name.__hash__())"
   ]
  },
  {
   "cell_type": "markdown",
   "metadata": {},
   "source": [
    "The hash value of two immutable objects is identical only if the immutable objects have the same value or content."
   ]
  },
  {
   "cell_type": "code",
   "execution_count": null,
   "metadata": {},
   "outputs": [],
   "source": [
    "name = 'John Doe'\n",
    "same_name = 'John Doe'\n",
    "different_name = 'John Smith'\n",
    "\n",
    "assert name.__hash__() == same_name.__hash__()\n",
    "assert name.__hash__() != different_name.__hash__()"
   ]
  },
  {
   "cell_type": "markdown",
   "metadata": {},
   "source": [
    "### 6.3 Advanced: Dictionary keys, immutability and hashable?\n",
    "\n",
    "So we found out that immutabile types can not be altered after they have been created. This ensures that during their lifetime they will always have the same hash value.\n",
    "\n",
    "A dictionary is also called a HashMap (f.i. Java). The key of a dictionary is hashed before use in the internals of the dictionary. Thus only immutable/hashable types can be used as key in a dictionary.\n"
   ]
  },
  {
   "cell_type": "code",
   "execution_count": null,
   "metadata": {},
   "outputs": [],
   "source": [
    "routing_scheme = {}\n",
    "\n",
    "domain = 'rabobank.nl'\n",
    "ip = '10.100.10.1'\n",
    "routing_scheme[domain] = ip\n",
    "routing_scheme[ip] = domain\n",
    "\n",
    "print(routing_scheme)\n",
    "\n",
    "domain = 'internetbankieren.nl'\n",
    "ip = (10, 100, 10, 2)\n",
    "routing_scheme[domain] = ip\n",
    "routing_scheme[ip] = domain\n",
    "\n",
    "print(routing_scheme)\n",
    "\n",
    "domain = 'internalsystems.nl'\n",
    "ip = [10, 100, 10, 3]\n",
    "routing_scheme[domain] = ip\n",
    "routing_scheme[ip] = domain"
   ]
  },
  {
   "cell_type": "markdown",
   "metadata": {},
   "source": [
    "At the moment that we try to use a mutable type, in this case a list, as a key in a dictionary we get a `TypeError` (unhashable type: 'list')"
   ]
  },
  {
   "cell_type": "markdown",
   "metadata": {},
   "source": [
    "## 7 Wrap-up\n",
    "This notebook has given you some insights in the nature of Python. These will become more relevant as you start your journey to write more and more Pythonic code. Thank you for your attention."
   ]
  },
  {
   "cell_type": "markdown",
   "metadata": {},
   "source": [
    "## Answers Data types and structures\n",
    "Suppose you are the IT guy at a local school.\n",
    "What would be a good way to store a grade for a course (f.i. History)? (grades are on a scale from 1 to 10).<br>\n",
    "Provide an example below."
   ]
  },
  {
   "cell_type": "code",
   "execution_count": null,
   "metadata": {},
   "outputs": [],
   "source": [
    "history_grade = 7.5"
   ]
  },
  {
   "cell_type": "markdown",
   "metadata": {},
   "source": [
    "Most courses have multiple grades and re-exams. How will you store the grades for each course?\n",
    "Remember, explicit is better than implicit"
   ]
  },
  {
   "cell_type": "code",
   "execution_count": null,
   "metadata": {},
   "outputs": [],
   "source": [
    "history_grades = {'exam_first_semester': [4, 7], 'exam_second_semester': [7.5]}"
   ]
  },
  {
   "cell_type": "markdown",
   "metadata": {},
   "source": [
    "_Does it matter in what order the elements in the above dictionary are written?_<br>\n",
    "Yes it does matter, but only for readability. Try to be alphabetical.<br>\n",
    "It does not matter for the actual value of the dictionary, because vanilla dictionaries do not have any garuanteed internal ordering.\n"
   ]
  },
  {
   "cell_type": "markdown",
   "metadata": {},
   "source": [
    "Of course there are more than one subject in high school. How would you store grades across subjects? "
   ]
  },
  {
   "cell_type": "code",
   "execution_count": null,
   "metadata": {},
   "outputs": [],
   "source": [
    "biology_grades = {'exam_first_semester': [5, 8], 'exam_second_semester': []}\n",
    "grades = {'history': history_grades, 'biology': biology_grades}"
   ]
  },
  {
   "cell_type": "markdown",
   "metadata": {},
   "source": [
    "The school has many students. How will you store all the grades across students?\n",
    "\n",
    "In this solution we use f-strings (Python >= 3.6).<br>\n",
    "Take a look at `defaultdict` and see if you can improve the code."
   ]
  },
  {
   "cell_type": "code",
   "execution_count": null,
   "metadata": {},
   "outputs": [],
   "source": [
    "import copy\n",
    "\n",
    "history_grades = {'exam_first_semester': [], 'exam_second_semester': []}\n",
    "biology_grades = {'exam_first_semester': [], 'exam_second_semester': []}\n",
    "grades = {'history': history_grades, 'biology': biology_grades}\n",
    "\n",
    "batch_of_students = 10\n",
    "students = [f'2018{10000 + num}' for num in range(batch_of_students)]\n",
    "student_grades = {student_id: copy.deepcopy(grades) for student_id in students}\n",
    "\n",
    "student_grades['201810000']['biology']['exam_first_semester'].append(7.5)"
   ]
  },
  {
   "cell_type": "code",
   "execution_count": null,
   "metadata": {},
   "outputs": [],
   "source": [
    "import copy\n",
    "\n",
    "from collections import defaultdict\n",
    "\n",
    "history_grades = defaultdict(list)\n",
    "biology_grades = defaultdict(list)\n",
    "grades = {'history': history_grades, 'biology': biology_grades}\n",
    "\n",
    "batch_of_students = 10\n",
    "students = [f'2018{10000 + num}' for num in range(batch_of_students)]\n",
    "student_grades = {student_id: copy.deepcopy(grades) for student_id in students}\n",
    "\n",
    "student_grades['201810000']['biology']['exam_first_semester'].append(7.5)\n"
   ]
  }
 ],
 "metadata": {
  "kernelspec": {
   "display_name": "Python 3",
   "language": "python",
   "name": "python3"
  },
  "language_info": {
   "codemirror_mode": {
    "name": "ipython",
    "version": 3
   },
   "file_extension": ".py",
   "mimetype": "text/x-python",
   "name": "python",
   "nbconvert_exporter": "python",
   "pygments_lexer": "ipython3",
   "version": "3.7.3"
  }
 },
 "nbformat": 4,
 "nbformat_minor": 2
}
