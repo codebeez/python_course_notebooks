{
 "cells": [
  {
   "cell_type": "code",
   "execution_count": null,
   "metadata": {},
   "outputs": [],
   "source": [
    "import numpy as np"
   ]
  },
  {
   "cell_type": "markdown",
   "metadata": {},
   "source": [
    "## 1 Array versus matrix versus vector\n",
    "Arrays ([numpy.website](https://docs.scipy.org/doc/numpy/reference/generated/numpy.array.html)) are the main data type of numpy. An array is an object which contains all the methods it has to interact with other objects. To get an idea of the fact that everything is an object within Python, we print the methods defined on an array object. Look through the list and see if you recognise some names."
   ]
  },
  {
   "cell_type": "code",
   "execution_count": null,
   "metadata": {},
   "outputs": [],
   "source": [
    "print(dir(np.array([1,2,3])))"
   ]
  },
  {
   "cell_type": "markdown",
   "metadata": {},
   "source": [
    "An Array is **not** a matrix."
   ]
  },
  {
   "cell_type": "code",
   "execution_count": null,
   "metadata": {},
   "outputs": [],
   "source": [
    "np.array([[1,1,1], [1,1,1]]) * np.array([[2,2,2],[2,2,2]])"
   ]
  },
  {
   "cell_type": "markdown",
   "metadata": {},
   "source": [
    "A 1D Array is **not** a vector."
   ]
  },
  {
   "cell_type": "code",
   "execution_count": null,
   "metadata": {},
   "outputs": [],
   "source": [
    "np.array([1,2,3,4]).shape"
   ]
  },
  {
   "cell_type": "markdown",
   "metadata": {},
   "source": [
    "You can force a 2D vector-like array creation with the `ndmin` argument. Is it a row or column vector?"
   ]
  },
  {
   "cell_type": "code",
   "execution_count": null,
   "metadata": {},
   "outputs": [],
   "source": [
    "np.array([1,2,3,4], ndmin=2).shape"
   ]
  },
  {
   "cell_type": "markdown",
   "metadata": {},
   "source": [
    "## Question\n",
    "Create a column and a row array of the same size and multiply them. Hint: you can transpose and array by calling `arr.T`. "
   ]
  },
  {
   "cell_type": "code",
   "execution_count": null,
   "metadata": {},
   "outputs": [],
   "source": []
  },
  {
   "cell_type": "markdown",
   "metadata": {},
   "source": [
    "# 2 Array creation"
   ]
  },
  {
   "cell_type": "code",
   "execution_count": null,
   "metadata": {},
   "outputs": [],
   "source": [
    "ARRAY_COLUMNS = 4\n",
    "ARRAY_ROWS = 4"
   ]
  },
  {
   "cell_type": "markdown",
   "metadata": {},
   "source": [
    "## uniform random numbers"
   ]
  },
  {
   "cell_type": "code",
   "execution_count": null,
   "metadata": {},
   "outputs": [],
   "source": [
    "np.random.rand(ARRAY_ROWS, ARRAY_COLUMNS)"
   ]
  },
  {
   "cell_type": "markdown",
   "metadata": {},
   "source": [
    "## random integers"
   ]
  },
  {
   "cell_type": "code",
   "execution_count": null,
   "metadata": {},
   "outputs": [],
   "source": [
    "LOWER = 0\n",
    "UPPER = 3\n",
    "np.random.randint(LOWER, UPPER, size=(ARRAY_ROWS, ARRAY_COLUMNS))"
   ]
  },
  {
   "cell_type": "markdown",
   "metadata": {},
   "source": [
    "## single value vectors, arrays"
   ]
  },
  {
   "cell_type": "code",
   "execution_count": null,
   "metadata": {},
   "outputs": [],
   "source": [
    "ARRAY_SIZE = 10"
   ]
  },
  {
   "cell_type": "code",
   "execution_count": null,
   "metadata": {},
   "outputs": [],
   "source": [
    "np.ones(ARRAY_SIZE)  # 1-dimensional Array"
   ]
  },
  {
   "cell_type": "code",
   "execution_count": null,
   "metadata": {},
   "outputs": [],
   "source": [
    "np.ones((ARRAY_SIZE, 1))  # 2-dimensional array (column)"
   ]
  },
  {
   "cell_type": "code",
   "execution_count": null,
   "metadata": {},
   "outputs": [],
   "source": [
    "np.zeros((1, ARRAY_SIZE))  # 2-dimensional array (row)"
   ]
  },
  {
   "cell_type": "markdown",
   "metadata": {},
   "source": [
    "## Exercise\n",
    "Create two arrays of the same size with the `np.ones` function and add them together with `A + B`."
   ]
  },
  {
   "cell_type": "code",
   "execution_count": null,
   "metadata": {},
   "outputs": [],
   "source": []
  },
  {
   "cell_type": "markdown",
   "metadata": {},
   "source": [
    "## 2.1 Reshape\n",
    "We can change the shape of an array as long as we maintain the same amount of elements.\n",
    "The `.reshape` method defined on the array expects N arguments with the dimension sizes."
   ]
  },
  {
   "cell_type": "code",
   "execution_count": null,
   "metadata": {},
   "outputs": [],
   "source": [
    "np.ones(ARRAY_SIZE).reshape(ARRAY_SIZE // 2, 2)"
   ]
  },
  {
   "cell_type": "code",
   "execution_count": null,
   "metadata": {},
   "outputs": [],
   "source": [
    "np.ones(ARRAY_SIZE).reshape(-1, 2)  # -1 acts like placeholder to fill this dimension maximaly"
   ]
  },
  {
   "cell_type": "markdown",
   "metadata": {},
   "source": [
    "# Exercise\n",
    "\n",
    "Create two 1D arrays with random integers (0, 1, 2) of size 10 and reshape them into (5, 2).\n",
    "Multiply the two arrays."
   ]
  },
  {
   "cell_type": "code",
   "execution_count": null,
   "metadata": {},
   "outputs": [],
   "source": []
  },
  {
   "cell_type": "markdown",
   "metadata": {},
   "source": [
    "# 3 Mutability\n",
    "Numpy arrays are mutable and are in general passed around as references. What does this mean?\n",
    "\n",
    "Indexing does not make a copy of the original, but creates a *view* on the original"
   ]
  },
  {
   "cell_type": "code",
   "execution_count": null,
   "metadata": {},
   "outputs": [],
   "source": [
    "b = np.zeros(10)\n",
    "a = b[:3]\n",
    "a[0] = 3\n",
    "print(b)  # what do you expect?\n",
    "print(a)"
   ]
  },
  {
   "cell_type": "code",
   "execution_count": null,
   "metadata": {},
   "outputs": [],
   "source": [
    "# functions do not receive copies, but references\n",
    "\n",
    "def increment(arr):\n",
    "    arr += 1  # notice that there is no return statement\n",
    "\n",
    "arr = np.zeros(10)\n",
    "increment(arr)    \n",
    "print(arr)  # what do you expect?"
   ]
  },
  {
   "cell_type": "markdown",
   "metadata": {},
   "source": [
    "How do we make copies of arrays then?"
   ]
  },
  {
   "cell_type": "code",
   "execution_count": null,
   "metadata": {},
   "outputs": [],
   "source": [
    "first_array = np.zeros(10)\n",
    "second_array = first_array.copy()  # we use the .copy() method on the array object\n",
    "second_array[0] = 1\n",
    "print(first_array)"
   ]
  },
  {
   "cell_type": "markdown",
   "metadata": {},
   "source": [
    "## Question\n",
    "Why do we need to call `new_array = old_array.copy()` when we want to prevent changes made in `new_array` to affect `old_array`?"
   ]
  },
  {
   "cell_type": "markdown",
   "metadata": {},
   "source": [
    "# 4 Equality and logical tests\n",
    "Equality and logical tests for numpy arrays are different from Python buildin types. Why? The numpy developers made choices to allow more control over logical statements about arrays. They allowed statements about each element in the array. \n",
    "\n",
    "Let's first look at the Python `list` type as an example of Python behaviour."
   ]
  },
  {
   "cell_type": "code",
   "execution_count": null,
   "metadata": {},
   "outputs": [],
   "source": [
    "temp_list = [0]\n",
    "\n",
    "if temp_list:\n",
    "    print('list is not empty')\n",
    "else:\n",
    "    print('list is empty')"
   ]
  },
  {
   "cell_type": "markdown",
   "metadata": {},
   "source": [
    "## Exercise\n",
    "Play with the list in the above code to switch the result of the if-statement."
   ]
  },
  {
   "cell_type": "code",
   "execution_count": null,
   "metadata": {},
   "outputs": [],
   "source": []
  },
  {
   "cell_type": "markdown",
   "metadata": {},
   "source": [
    "Now let's take a look at the numpy array. Please formulate your expectations first."
   ]
  },
  {
   "cell_type": "code",
   "execution_count": null,
   "metadata": {},
   "outputs": [],
   "source": [
    "temp_array = np.array([1, 2])\n",
    "\n",
    "if temp_array:\n",
    "    print('array is not empty')\n",
    "else:\n",
    "    print('array is empty')"
   ]
  },
  {
   "cell_type": "code",
   "execution_count": null,
   "metadata": {},
   "outputs": [],
   "source": [
    "temp_array.size"
   ]
  },
  {
   "cell_type": "markdown",
   "metadata": {},
   "source": [
    "## Exercise\n",
    "Play with the `temp_array` in the above code to switch the result of the if-statement. The `array.size` property can be used to test whether an array is empty."
   ]
  },
  {
   "cell_type": "code",
   "execution_count": null,
   "metadata": {},
   "outputs": [],
   "source": []
  },
  {
   "cell_type": "markdown",
   "metadata": {},
   "source": [
    "## All and Any\n",
    "Two shorthands exist to make concise statements about all elements in an array. `np.all` and `np.any`, these are mostly used as array methods: `array.all()` and `array.any()`."
   ]
  },
  {
   "cell_type": "code",
   "execution_count": null,
   "metadata": {},
   "outputs": [],
   "source": [
    "temp_array = np.array([False, True, False])\n",
    "print('is at least one value in the array \"Truthy\"?', temp_array.any())\n",
    "print('are all the values in the array \"Truthy\"?', temp_array.all())"
   ]
  },
  {
   "cell_type": "markdown",
   "metadata": {},
   "source": [
    "## Elementwise logical operations"
   ]
  },
  {
   "cell_type": "code",
   "execution_count": null,
   "metadata": {},
   "outputs": [],
   "source": [
    "temp_array = np.random.rand(5, 5)\n",
    "upper_selection = temp_array > 0.5\n",
    "print(upper_selection)"
   ]
  },
  {
   "cell_type": "markdown",
   "metadata": {},
   "source": [
    "### elementwise equality of two arrays"
   ]
  },
  {
   "cell_type": "code",
   "execution_count": null,
   "metadata": {},
   "outputs": [],
   "source": [
    "temp_array_A = np.arange(10)\n",
    "temp_array_B = np.arange(10)\n",
    "\n",
    "print('do these arrays have the same elements?', np.equal(temp_array_A, temp_array_B))\n",
    "print('do these arrays have different elements?', np.not_equal(temp_array_A, temp_array_B))\n",
    "print('are these array equal in size and in elements?', np.all(np.equal(temp_array_A, temp_array_B)))"
   ]
  },
  {
   "cell_type": "markdown",
   "metadata": {},
   "source": [
    "### negation"
   ]
  },
  {
   "cell_type": "code",
   "execution_count": null,
   "metadata": {},
   "outputs": [],
   "source": [
    "lower_selection = not(upper_selection)"
   ]
  },
  {
   "cell_type": "code",
   "execution_count": null,
   "metadata": {},
   "outputs": [],
   "source": [
    "lower_selection = np.logical_not(upper_selection)\n",
    "print(lower_selection)"
   ]
  },
  {
   "cell_type": "markdown",
   "metadata": {},
   "source": [
    "## Exercise\n",
    "Create two arrays with random integers with possible values \\[0, 1, 2\\] and of length 100. Compute the number of elements that the arrays are equal. Is this a number you expected?"
   ]
  },
  {
   "cell_type": "code",
   "execution_count": null,
   "metadata": {},
   "outputs": [],
   "source": []
  },
  {
   "cell_type": "markdown",
   "metadata": {},
   "source": [
    "# 5 Array creation 2\n",
    "## 1D value sequences\n",
    "These are useful for creating an 'x-axis' for computations and plots"
   ]
  },
  {
   "cell_type": "code",
   "execution_count": null,
   "metadata": {},
   "outputs": [],
   "source": [
    "UPPER_BOUND = 10"
   ]
  },
  {
   "cell_type": "code",
   "execution_count": null,
   "metadata": {},
   "outputs": [],
   "source": [
    "np.arange(UPPER_BOUND)"
   ]
  },
  {
   "cell_type": "code",
   "execution_count": null,
   "metadata": {},
   "outputs": [],
   "source": [
    "LOWER_BOUND = 0\n",
    "UPPER_BOUND = 1\n",
    "NUM_STEPS = 10\n",
    "np.linspace(LOWER_BOUND, UPPER_BOUND, num=NUM_STEPS, endpoint=False)  # do not include upper bound"
   ]
  },
  {
   "cell_type": "code",
   "execution_count": null,
   "metadata": {},
   "outputs": [],
   "source": [
    "np.linspace(LOWER_BOUND, UPPER_BOUND, num=NUM_STEPS, endpoint=True)  # include upper bound"
   ]
  },
  {
   "cell_type": "markdown",
   "metadata": {},
   "source": [
    "## 2D and higher dimensional value grids\n",
    "These are useful when plotting functions over multiple dimensions or when computing grids of values."
   ]
  },
  {
   "cell_type": "code",
   "execution_count": null,
   "metadata": {},
   "outputs": [],
   "source": [
    "x = np.arange(-5, 5)\n",
    "y = np.arange(-5, 5)\n",
    "xx, yy = np.meshgrid(x, y)\n",
    "print('xx')\n",
    "print(xx)\n",
    "print('yy')\n",
    "print(yy)"
   ]
  },
  {
   "cell_type": "markdown",
   "metadata": {},
   "source": [
    "### Exercise\n",
    "Compute sin(2*x*y) on a meshgrid of `-2Pi` to `2Pi` with steps of 0.1. Use the following code to plot the result. Fill in the `????` in the code."
   ]
  },
  {
   "cell_type": "code",
   "execution_count": null,
   "metadata": {},
   "outputs": [],
   "source": [
    "%matplotlib inline\n",
    "import matplotlib.pyplot as plt\n",
    "\n",
    "x = np.linspace(???)\n",
    "y = np.linspace(???)\n",
    "xx, yy = np.meshgrid(x, y)\n",
    "z = np.sin(???)\n",
    "\n",
    "h = plt.contourf(xx, yy, z)"
   ]
  },
  {
   "cell_type": "markdown",
   "metadata": {},
   "source": [
    "## 6 Indexing arrays\n",
    "There are various ways you can index an array. See the [numpy website](https://docs.scipy.org/doc/numpy-1.14.0/reference/arrays.indexing.html) for a good resource.\n",
    "\n",
    "Numpy indexes start at **0** not 1 like matlab."
   ]
  },
  {
   "cell_type": "code",
   "execution_count": null,
   "metadata": {},
   "outputs": [],
   "source": [
    "temp_array = np.random.rand(5, 5)\n",
    "print(temp_array)"
   ]
  },
  {
   "cell_type": "markdown",
   "metadata": {},
   "source": [
    "There is basic indexing:"
   ]
  },
  {
   "cell_type": "code",
   "execution_count": null,
   "metadata": {},
   "outputs": [],
   "source": [
    "temp_array[0, :]  # select first row"
   ]
  },
  {
   "cell_type": "code",
   "execution_count": null,
   "metadata": {},
   "outputs": [],
   "source": [
    "temp_array[:, 0]  # select first column"
   ]
  },
  {
   "cell_type": "markdown",
   "metadata": {},
   "source": [
    "there is **advanced** indexing:\n",
    "\n",
    "_Advanced indexing is triggered when the selection object, obj, is a non-tuple sequence object, an ndarray (of data type integer or bool), or a tuple with at least one sequence object or ndarray (of data type integer or bool). There are two types of advanced indexing: integer and Boolean._"
   ]
  },
  {
   "cell_type": "code",
   "execution_count": null,
   "metadata": {},
   "outputs": [],
   "source": [
    "temp_array[[0,1,2,3,4], [0,1,2,3,4]]  # select the diagonal"
   ]
  },
  {
   "cell_type": "markdown",
   "metadata": {},
   "source": [
    "**boolean** indexing:"
   ]
  },
  {
   "cell_type": "code",
   "execution_count": null,
   "metadata": {},
   "outputs": [],
   "source": [
    "temp_array > 0.5"
   ]
  },
  {
   "cell_type": "code",
   "execution_count": null,
   "metadata": {},
   "outputs": [],
   "source": [
    "temp_array[temp_array > 0.5]  # select all elements larger than 0.5"
   ]
  },
  {
   "cell_type": "code",
   "execution_count": null,
   "metadata": {},
   "outputs": [],
   "source": [
    "temp_array[(temp_array > 0.2)  & (temp_array < 0.8)]  # select elements larger than 0.2 *and* smaller than 0.8"
   ]
  },
  {
   "cell_type": "markdown",
   "metadata": {},
   "source": [
    "### Exercise\n",
    "1. create an array of 5x5 random integers between 0 and 10\n",
    "2. pass this array into a function you define increments all elements by 1\n",
    "3. ensure that your function does not change the original array\n",
    "4. return the new array from the function and assign it to a new variable\n",
    "5. index the last row of this new array\n",
    "6. select all elements of this row higher than 5"
   ]
  },
  {
   "cell_type": "code",
   "execution_count": null,
   "metadata": {},
   "outputs": [],
   "source": []
  }
 ],
 "metadata": {
  "kernelspec": {
   "display_name": "Python 3",
   "language": "python",
   "name": "python3"
  },
  "language_info": {
   "codemirror_mode": {
    "name": "ipython",
    "version": 3
   },
   "file_extension": ".py",
   "mimetype": "text/x-python",
   "name": "python",
   "nbconvert_exporter": "python",
   "pygments_lexer": "ipython3",
   "version": "3.7.4"
  }
 },
 "nbformat": 4,
 "nbformat_minor": 4
}
