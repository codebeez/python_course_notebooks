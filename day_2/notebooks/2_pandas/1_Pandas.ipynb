{
 "cells": [
  {
   "cell_type": "code",
   "execution_count": null,
   "metadata": {},
   "outputs": [],
   "source": [
    "import numpy as np\n",
    "import pandas as pd"
   ]
  },
  {
   "cell_type": "markdown",
   "metadata": {},
   "source": [
    "# Pandas\n",
    "**Pandas** is very popular data processing library/framework for Python. It's main benefit is the **DataFrame**. The DataFrame is inspired by the dataframe that is part of the **R** language (see [tiddle](https://tibble.tidyverse.org/)). The pandas DataFrame is build on top of the numpy array, but handles non-numeric and heterogenous data much easier. It also allows indexing and annotation of columns and rows with names. Pandas is a rich set of functionalities build around the DataFrame, such as plotting, statistics and data handling with support for various datasources (SQL, mdf5, PyTables). We will start by introducing the DataFrame.\n",
    "\n",
    "<img src=\"./pandas.jpg\" alt=\"pandas\" style=\"width:400px;\"/>"
   ]
  },
  {
   "cell_type": "markdown",
   "metadata": {},
   "source": [
    "# 1 DataFrame\n",
    "A DataFrame reminds of how data is layed out in a spreadsheet calculator like Excel. We have data in rows and columns with annotated names and indexes."
   ]
  },
  {
   "cell_type": "markdown",
   "metadata": {},
   "source": [
    "## create a DataFrame from a numpy array"
   ]
  },
  {
   "cell_type": "code",
   "execution_count": null,
   "metadata": {},
   "outputs": [],
   "source": [
    "N_COLS = 5\n",
    "N_ROWS = 25\n",
    "COLUMN_NAMES = ['A', 'B', 'C', 'D', 'E']\n",
    "\n",
    "temp_array = np.random.rand(N_ROWS, N_COLS)\n",
    "\n",
    "df = pd.DataFrame(data=temp_array, columns=COLUMN_NAMES)\n",
    "df.head()  # prints the first rows of the DataFrame to get an idea of the format"
   ]
  },
  {
   "cell_type": "markdown",
   "metadata": {},
   "source": [
    "**Notice** the column names on the top and the index on the left. In this case the index is a numeric series counting the number of samples. Thus the DataFrame is mostly used as *samples x features* or *samples x variables*. The column names and index are not part of the data, but they enrich and structure the data."
   ]
  },
  {
   "cell_type": "markdown",
   "metadata": {},
   "source": [
    "### from a DataFrame to a Numpy array\n",
    "We can dump the data into a Numpy array."
   ]
  },
  {
   "cell_type": "code",
   "execution_count": null,
   "metadata": {},
   "outputs": [],
   "source": [
    "temp_array = df.values\n",
    "print(temp_array)\n",
    "\n",
    "print(temp_array[:5, :])  # print first 5 rows"
   ]
  },
  {
   "cell_type": "markdown",
   "metadata": {},
   "source": [
    "## Exercise\n",
    "Make a DataFrame with three columns (height, age, IQ) with random integer values for 30 individuals/samples."
   ]
  },
  {
   "cell_type": "code",
   "execution_count": null,
   "metadata": {},
   "outputs": [],
   "source": []
  },
  {
   "cell_type": "markdown",
   "metadata": {},
   "source": [
    "## the DataFrame object is really rich\n",
    "Compare the amount of methods defined on the DataFrame object with the number of methods supported by the Numpy Array. Try to get an idea what kind of operations the DataFrame supports."
   ]
  },
  {
   "cell_type": "code",
   "execution_count": null,
   "metadata": {},
   "outputs": [],
   "source": [
    "print('Array methods:')\n",
    "print(dir(temp_array))\n",
    "print()\n",
    "print('DataFrame methods:')\n",
    "print(dir(df))"
   ]
  },
  {
   "cell_type": "markdown",
   "metadata": {},
   "source": [
    "## 1.1 DataFrame indexing and selection\n",
    "DataFrames support basic to advanced ways of indexing data. There are various methods defined on the DataFrame, see [this](https://pandas.pydata.org/pandas-docs/stable/indexing.html) page for an excellent reference."
   ]
  },
  {
   "cell_type": "markdown",
   "metadata": {},
   "source": [
    "### Select a column\n",
    "A DataFrame is build up out of [pandas.Series](https://pandas.pydata.org/pandas-docs/stable/generated/pandas.Series.html). A Series is a one-dimensional array with axis labels (including time series). If we select one column from a DataFrame we get a Series back. Notice it does not have the column name anymore."
   ]
  },
  {
   "cell_type": "code",
   "execution_count": null,
   "metadata": {},
   "outputs": [],
   "source": [
    "df['A']"
   ]
  },
  {
   "cell_type": "markdown",
   "metadata": {},
   "source": [
    "### select multiple columns\n",
    "To select multiple columns we pass a list of column names to the DataFrame. Because we select more than one column (Series) we get a DataFrame back. Notice that we indeed see the columns names at the top."
   ]
  },
  {
   "cell_type": "code",
   "execution_count": null,
   "metadata": {},
   "outputs": [],
   "source": [
    "df[['B', 'E']]"
   ]
  },
  {
   "cell_type": "markdown",
   "metadata": {},
   "source": [
    "### use the index\n",
    "The basic use of the *index* is to slice the columns to select certain rows (samples). Pandas has many ways to intepret your selection and this will be part of the learning curve."
   ]
  },
  {
   "cell_type": "code",
   "execution_count": null,
   "metadata": {},
   "outputs": [],
   "source": [
    "df[:2]  # select the first two rows"
   ]
  },
  {
   "cell_type": "markdown",
   "metadata": {},
   "source": [
    "### use the .loc method\n",
    "The `.loc` method is a important data selection method defined on the DataFrame object (see [here](https://pandas.pydata.org/pandas-docs/stable/indexing.html#selection-by-label)). It let's you select from the columns and index at the same time."
   ]
  },
  {
   "cell_type": "code",
   "execution_count": null,
   "metadata": {},
   "outputs": [],
   "source": [
    "df.loc[:3, ['C', 'D']]  # select the first 4 elements from the 'C' and 'D' columns"
   ]
  },
  {
   "cell_type": "markdown",
   "metadata": {},
   "source": [
    "## Exercise\n",
    "Look at the documentation of the `.iloc` method defined on the DataFrame [here](https://pandas.pydata.org/pandas-docs/stable/indexing.html#selection-by-position). \n",
    "\n",
    "Select the last row of the last column in the DataFrame `df`."
   ]
  },
  {
   "cell_type": "code",
   "execution_count": null,
   "metadata": {},
   "outputs": [],
   "source": []
  },
  {
   "cell_type": "markdown",
   "metadata": {},
   "source": [
    "# 2 Series\n",
    "A **Series** is a one-dimensional array with axis labels, which we have encountered above ([documentation](https://pandas.pydata.org/pandas-docs/stable/generated/pandas.Series.html)). It often represents a time-series and is often encountered as one column in a **DataFrame**."
   ]
  },
  {
   "cell_type": "markdown",
   "metadata": {},
   "source": [
    "## Exercise\n",
    "Select one column from the DataFrame `df` and compute its' mean value. Is it what you expect?"
   ]
  },
  {
   "cell_type": "code",
   "execution_count": null,
   "metadata": {},
   "outputs": [],
   "source": []
  },
  {
   "cell_type": "markdown",
   "metadata": {},
   "source": [
    "# 3 Mutability when indexing\n",
    "As we have seen with Numpy the rules of data selection and mutating these selections are different from matlab. Let's see how this is handled in Pandas."
   ]
  },
  {
   "cell_type": "code",
   "execution_count": null,
   "metadata": {},
   "outputs": [],
   "source": [
    "N_COLS = 5\n",
    "N_ROWS = 25\n",
    "COLUMN_NAMES = ['A', 'B', 'C', 'D', 'E']\n",
    "mutable_df = pd.DataFrame(data=np.random.rand(N_ROWS, N_COLS), columns=COLUMN_NAMES)"
   ]
  },
  {
   "cell_type": "code",
   "execution_count": null,
   "metadata": {},
   "outputs": [],
   "source": [
    "select_df = mutable_df[['B', 'E']]\n",
    "select_df.iloc[0, 0] = 1  # do you get a warning message?\n",
    "select_df"
   ]
  },
  {
   "cell_type": "markdown",
   "metadata": {},
   "source": [
    "If all went well you got a warning message which refers to [this](http://pandas.pydata.org/pandas-docs/stable/indexing.html#indexing-view-versus-copy) section about *indexing-view-versus-copy*. Thank you Pandas!\n",
    "\n",
    "Now let's see what happened to our original DataFrame."
   ]
  },
  {
   "cell_type": "code",
   "execution_count": null,
   "metadata": {},
   "outputs": [],
   "source": [
    "mutable_df"
   ]
  },
  {
   "cell_type": "markdown",
   "metadata": {},
   "source": [
    "**Nothing** happened, which might suprise you. Refer to [this](http://pandas.pydata.org/pandas-docs/stable/indexing.html#why-does-assignment-fail-when-using-chained-indexing) section on the page for more info.\n",
    "\n",
    "Let's try again with the `.loc` method."
   ]
  },
  {
   "cell_type": "code",
   "execution_count": null,
   "metadata": {},
   "outputs": [],
   "source": [
    "select_df = mutable_df.loc[:3, 'A']"
   ]
  },
  {
   "cell_type": "code",
   "execution_count": null,
   "metadata": {},
   "outputs": [],
   "source": [
    "select_df[0] = 10"
   ]
  },
  {
   "cell_type": "code",
   "execution_count": null,
   "metadata": {},
   "outputs": [],
   "source": [
    "mutable_df"
   ]
  },
  {
   "cell_type": "markdown",
   "metadata": {},
   "source": [
    "**Something** happened! It will take some time for you to learn the behavior of Pandas in this respect. For now we leave you with the warning given on the Pandas website.\n",
    "\n",
    "_Warning_\n",
    "\n",
    "_Whether a copy or a reference is returned for a setting operation, may depend on the context. This is sometimes called chained assignment and should be avoided. See [Returning a View versus Copy](https://pandas.pydata.org/pandas-docs/stable/indexing.html#returning-a-view-versus-a-copy)_"
   ]
  },
  {
   "cell_type": "markdown",
   "metadata": {},
   "source": [
    "## Exercise\n",
    "Look at the [documentation](https://pandas.pydata.org/pandas-docs/stable/generated/pandas.DataFrame.copy.html) of the `.copy` method. Copy a DataFrame to a new variable and explore the difference between `deep = False` and `deep = True` . What kind of differences do you expect?"
   ]
  },
  {
   "cell_type": "code",
   "execution_count": null,
   "metadata": {},
   "outputs": [],
   "source": []
  },
  {
   "cell_type": "markdown",
   "metadata": {},
   "source": [
    "# 4 Basic statistics"
   ]
  },
  {
   "cell_type": "code",
   "execution_count": null,
   "metadata": {},
   "outputs": [],
   "source": [
    "N_COLS = 5\n",
    "N_ROWS = 25\n",
    "COLUMN_NAMES = ['A', 'B', 'C', 'D', 'E']\n",
    "\n",
    "temp_array = np.random.rand(N_ROWS, N_COLS)\n",
    "\n",
    "df = pd.DataFrame(data=temp_array, columns=COLUMN_NAMES)"
   ]
  },
  {
   "cell_type": "markdown",
   "metadata": {},
   "source": [
    "## Exercise\n",
    "Look at the [documentation](https://pandas.pydata.org/pandas-docs/stable/generated/pandas.DataFrame.sum.html) for the `.sum` method. Compute the sum across rows (1 sum per column) and across columns (1 sum per row).\n",
    "\n",
    "Do the same for the `.mean` method ([documentation](https://pandas.pydata.org/pandas-docs/stable/generated/pandas.DataFrame.mean.html))"
   ]
  },
  {
   "cell_type": "code",
   "execution_count": null,
   "metadata": {},
   "outputs": [],
   "source": []
  },
  {
   "cell_type": "markdown",
   "metadata": {},
   "source": [
    "## Exercise\n",
    "Compute the difference between to two columns and compute the absolute value of this difference for each row."
   ]
  },
  {
   "cell_type": "code",
   "execution_count": null,
   "metadata": {},
   "outputs": [],
   "source": []
  },
  {
   "cell_type": "markdown",
   "metadata": {},
   "source": [
    "## Exercise\n",
    "Compute the maximal value of the last 10 values in the last two columns."
   ]
  },
  {
   "cell_type": "code",
   "execution_count": null,
   "metadata": {},
   "outputs": [],
   "source": []
  }
 ],
 "metadata": {
  "kernelspec": {
   "display_name": "Python 3",
   "language": "python",
   "name": "python3"
  },
  "language_info": {
   "codemirror_mode": {
    "name": "ipython",
    "version": 3
   },
   "file_extension": ".py",
   "mimetype": "text/x-python",
   "name": "python",
   "nbconvert_exporter": "python",
   "pygments_lexer": "ipython3",
   "version": "3.7.3"
  }
 },
 "nbformat": 4,
 "nbformat_minor": 2
}
