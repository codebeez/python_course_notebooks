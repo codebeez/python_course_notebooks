{
 "cells": [
  {
   "cell_type": "markdown",
   "metadata": {},
   "source": [
    "# Introduction to Python\n",
    "\n",
    "Python is a language that originated at the 'Centrum voor Wiskunde en informatica' (CWI) in Amsterdam, the Netherlands. It was based on a few academic languages at the time, mainly ABC.\n",
    "\n",
    "Python focuses on the human factor in programming and aims for readability, maintainability and fast development. This is different from most other languages in the late 80's, early 90's, which focused on operations that mean something to the computer, like C.\n",
    "\n",
    "The Jupyter notebook interface you will be working with emphasizes Python's human centric approach. You can directly interact with the language and get feedback on your code. Click on a cell and press `Shift + Enter` to evaluate the cell.\n",
    "\n",
    "**nota bene** please read these highlights carefully and please use a search engine like Duckduckgo to help you."
   ]
  },
  {
   "cell_type": "markdown",
   "metadata": {},
   "source": [
    "## 1 Arithmetic\n",
    "Let's interact with the Python language and use it as a calculator."
   ]
  },
  {
   "cell_type": "code",
   "execution_count": 1,
   "metadata": {},
   "outputs": [
    {
     "data": {
      "text/plain": [
       "2"
      ]
     },
     "execution_count": 1,
     "metadata": {},
     "output_type": "execute_result"
    }
   ],
   "source": [
    "1 + 1  # addition"
   ]
  },
  {
   "cell_type": "markdown",
   "metadata": {},
   "source": [
    "**nota bene** [pep8](https://www.python.org/dev/peps/pep-0008/#id26) suggests to use spaces between operators and their arguments: `1 space + space 1`"
   ]
  },
  {
   "cell_type": "code",
   "execution_count": null,
   "metadata": {},
   "outputs": [],
   "source": [
    "3 - 2  # subtraction"
   ]
  },
  {
   "cell_type": "code",
   "execution_count": null,
   "metadata": {},
   "outputs": [],
   "source": [
    "3 * 3  # multiplication"
   ]
  },
  {
   "cell_type": "code",
   "execution_count": null,
   "metadata": {},
   "outputs": [],
   "source": [
    "3 ** 3  # power"
   ]
  },
  {
   "cell_type": "code",
   "execution_count": null,
   "metadata": {},
   "outputs": [],
   "source": [
    "10 / 3  # float division"
   ]
  },
  {
   "cell_type": "code",
   "execution_count": null,
   "metadata": {},
   "outputs": [],
   "source": [
    "10 // 3  # integer division"
   ]
  },
  {
   "cell_type": "code",
   "execution_count": null,
   "metadata": {},
   "outputs": [],
   "source": [
    "10 % 3  # modulo"
   ]
  },
  {
   "cell_type": "markdown",
   "metadata": {},
   "source": [
    "## 2 Floats and type conversions\n",
    "Floats are floating-point numbers, which are those numbers you can write in scientific format, such as 1.33e4. Depending on the number it tries to represent the decimals might be a truncated approximation.\n",
    "\n",
    "such as 1/3 -> 3.333333333333333e-1"
   ]
  },
  {
   "cell_type": "code",
   "execution_count": null,
   "metadata": {},
   "outputs": [],
   "source": [
    "1 / 3"
   ]
  },
  {
   "cell_type": "markdown",
   "metadata": {},
   "source": [
    "A division calculation gives a `float` as its result. Let's look at a few calculations and their result."
   ]
  },
  {
   "cell_type": "code",
   "execution_count": null,
   "metadata": {},
   "outputs": [],
   "source": [
    "print('integer', 1 * 1)  # integer multiplication results in an integer\n",
    "print('float:', 1 / 1)  # division of integers results in a float\n",
    "print('float:', 1.0 * 1)  #  multiplication of an integer and a float results in a float\n",
    "print('float:', 1 + 1.0)  #  addition of an integer and a float results in a float"
   ]
  },
  {
   "cell_type": "markdown",
   "metadata": {},
   "source": [
    "Although the next few comparisons of floats seem to do what you expect, I am going to give you a warning\n",
    "## Comparing with floats\n",
    "### WARNING: Do not rely on comparing floats for equality!!"
   ]
  },
  {
   "cell_type": "code",
   "execution_count": null,
   "metadata": {},
   "outputs": [],
   "source": [
    "1 / 3 == 1 / 3  # not nice"
   ]
  },
  {
   "cell_type": "code",
   "execution_count": null,
   "metadata": {},
   "outputs": [],
   "source": [
    "0.3333333 == 1 / 3  # not good"
   ]
  },
  {
   "cell_type": "markdown",
   "metadata": {},
   "source": [
    "You can compare inequality with floats, just understand that this probably does not work as you expect. If you want to know more about floats and like reading technical manuals, see [the IEEE definition](https://en.wikipedia.org/wiki/IEEE_754)."
   ]
  },
  {
   "cell_type": "code",
   "execution_count": null,
   "metadata": {},
   "outputs": [],
   "source": [
    "1.33333 > 0"
   ]
  },
  {
   "cell_type": "code",
   "execution_count": null,
   "metadata": {},
   "outputs": [],
   "source": [
    "0.333333333 >= 1/3"
   ]
  },
  {
   "cell_type": "markdown",
   "metadata": {},
   "source": [
    "### 2.1 Convert to integers\n",
    "Floats can be truncated to the most nearby integer. This rouding can be done upward (ceil) or downward (floor). The standard Float to Integer conversion uses downward rounding (floor)."
   ]
  },
  {
   "cell_type": "code",
   "execution_count": null,
   "metadata": {},
   "outputs": [],
   "source": [
    "int(1 / 3)"
   ]
  },
  {
   "cell_type": "code",
   "execution_count": null,
   "metadata": {},
   "outputs": [],
   "source": [
    "int(4 / 3)"
   ]
  },
  {
   "cell_type": "markdown",
   "metadata": {},
   "source": [
    "These particular examples of Float division and conversion to integer give the same result as Integer division."
   ]
  },
  {
   "cell_type": "code",
   "execution_count": null,
   "metadata": {},
   "outputs": [],
   "source": [
    "1 // 3"
   ]
  },
  {
   "cell_type": "code",
   "execution_count": null,
   "metadata": {},
   "outputs": [],
   "source": [
    "4 // 3"
   ]
  },
  {
   "cell_type": "code",
   "execution_count": null,
   "metadata": {},
   "outputs": [],
   "source": [
    "import math\n",
    "\n",
    "math.floor(4 / 3)"
   ]
  },
  {
   "cell_type": "markdown",
   "metadata": {},
   "source": [
    "### 2.1.1 Upward rounding\n",
    "To accomplish upward rounding (ceil) we will have to import our first additional functionality into our Python program environment.\n",
    "\n",
    "The `import` statement in combination with the `from` statement allows us to import the `math` standard library.\n",
    "\n",
    "`import math`<br>\n",
    "or<br>\n",
    "`from math import ceil`<br>"
   ]
  },
  {
   "cell_type": "code",
   "execution_count": null,
   "metadata": {},
   "outputs": [],
   "source": [
    "import math\n",
    "\n",
    "math.ceil(1 / 3)"
   ]
  },
  {
   "cell_type": "markdown",
   "metadata": {},
   "source": [
    "What is the type of the value that `math.ceil` returns?\n",
    "\n",
    "Let's see what is contained within the `math` library. Can you find the functions for sinus and cosinus?"
   ]
  },
  {
   "cell_type": "code",
   "execution_count": null,
   "metadata": {},
   "outputs": [],
   "source": [
    "dir(math)"
   ]
  },
  {
   "cell_type": "markdown",
   "metadata": {},
   "source": [
    "## Exercise\n",
    "Compute the cosinus of a 180 degree angle. Try using degrees and radials."
   ]
  },
  {
   "cell_type": "code",
   "execution_count": null,
   "metadata": {},
   "outputs": [],
   "source": []
  },
  {
   "cell_type": "markdown",
   "metadata": {},
   "source": [
    "## 3 Booleans\n",
    "Booleans are named after Bool, who was a great logician and mathmatician. A Boolean can be either `True` or `False`, with the possible extension to undefined `None`.\n",
    "\n",
    "Any logical operator such as `==` or `>=` will evaluate to a defined boolean (`True` or `False`).\n",
    "\n",
    "This logical value can be combined with other logical values with `and`, `or` and `not`."
   ]
  },
  {
   "cell_type": "code",
   "execution_count": null,
   "metadata": {},
   "outputs": [],
   "source": [
    "MINIMUM_AGE_FOR_DRINKING = 18\n",
    "\n",
    "age = 25\n",
    "mental_state = 'sober'\n",
    "\n",
    "can_have_a_drink = age > MINIMUM_AGE_FOR_DRINKING and mental_state == 'sober'\n",
    "print('Can I have a drink?\\n{answer}'.format(answer='yes' if can_have_a_drink else 'no'))"
   ]
  },
  {
   "cell_type": "markdown",
   "metadata": {},
   "source": [
    "## 4 Literal strings\n",
    "Does the following happen to you? Sometimes you want use a name of an object or concept, while you are talking, and you perform \"double quotes\" with your hands.<br>\n",
    "\n",
    "Your quotes signify a literal value. A value that does not need further interpretation.<br>\n",
    "It should be taken 'as is'.<br>\n",
    "In Python we mostly use 'single quotes' to identify a literal value."
   ]
  },
  {
   "cell_type": "code",
   "execution_count": null,
   "metadata": {},
   "outputs": [],
   "source": [
    "city_name = 'Amsterdam'\n",
    "street_name = 'Nieuwezijds Voorburgwal'\n",
    "house_number = 147"
   ]
  },
  {
   "cell_type": "markdown",
   "metadata": {},
   "source": [
    "Often we use literal strings as pure values or as a way to add readable information to our code.\n",
    "\n",
    "**nota bene** Python 3.6 has extended its string formatting power with f-strings.<br>\n",
    "Take a look and tell me what you think [Python 3.6 f-strings](https://realpython.com/python-f-strings/)"
   ]
  },
  {
   "cell_type": "markdown",
   "metadata": {},
   "source": [
    "### 4.1 Formatting string values\n",
    "To enrich the results of our computer program with readable text we need to automatically format literal strings and other values into a printable format.<br>\n",
    "A very nice way to format strings is by using the `.format` string method."
   ]
  },
  {
   "cell_type": "code",
   "execution_count": null,
   "metadata": {},
   "outputs": [],
   "source": [
    "print('street name is: {street_name}'.format(street_name=street_name))\n",
    "print(\n",
    "\"\"\"\n",
    "Address:\n",
    "street: {street_name} {house_number}\n",
    "city: {city_name}\n",
    "\"\"\".format(street_name=street_name,\n",
    "           house_number=house_number,\n",
    "           city_name=city_name)\n",
    ")"
   ]
  },
  {
   "cell_type": "markdown",
   "metadata": {},
   "source": [
    "## 5 Slightly advanced interlude: How to do Python the bad way"
   ]
  },
  {
   "cell_type": "markdown",
   "metadata": {},
   "source": [
    "Someone (not you!!) wrote a Python program, which contains a function, see below.<br>\n",
    "_some context: A `list` contains an ordered collection of elements and will be treated in another notebook_<br>"
   ]
  },
  {
   "cell_type": "code",
   "execution_count": null,
   "metadata": {},
   "outputs": [],
   "source": [
    "def bad_function_name(bad_variable_name):\n",
    "    \"\"\"\n",
    "    :bad_variable_name list\n",
    "    \"\"\"\n",
    "    another_bad_variable_name = 1\n",
    "    bad_variable_name.append(another_bad_variable_name)\n",
    "    return sum(bad_variable_name)"
   ]
  },
  {
   "cell_type": "markdown",
   "metadata": {},
   "source": [
    "Due to the `bad_function_name` and `bad_variable_name` you do not know what the purpose of the function is.<br>\n",
    "It is also not clear from `bad_variable_name` whether it is a collection of things (Sequence) or it might as well be an integer."
   ]
  },
  {
   "cell_type": "markdown",
   "metadata": {},
   "source": [
    "You try to execute the program and you get the following error\n",
    "\n",
    "`>> bad_function_name(1)`\n",
    "\n",
    "```\n",
    "---------------------------------------------------------------------------\n",
    "AttributeError                            Traceback (most recent call last)\n",
    "<ipython-input-47-304169b22f39> in <module>()\n",
    "----> 1 bad_function_name(1)\n",
    "\n",
    "<ipython-input-46-20724cb5672a> in bad_function_name(bad_variable_name)\n",
    "      2 def bad_function_name(bad_variable_name):\n",
    "      3     another_bad_variable_name = 1\n",
    "----> 4     bad_variable_name.append(another_bad_variable_name)\n",
    "\n",
    "AttributeError: 'int' object has no attribute 'append'\n",
    "```\n",
    "\n",
    "This error tells you that the programmer assumes that `bad_function_name` takes an integer.<br>\n",
    "    This is not the case and the program fails with an `AttrubuteError`, when accessing the non-existent attribute `append` on the integer `1`.\n",
    "\n",
    "Your boss tells you to FIX the code!!<br>\n",
    "It is 5pm on a Friday and you 'fix' the code in following way."
   ]
  },
  {
   "cell_type": "code",
   "execution_count": null,
   "metadata": {},
   "outputs": [],
   "source": [
    "def bad_function_name(bad_variable_name):\n",
    "    ## this makes me cry\n",
    "    if type(bad_variable_name) == int:\n",
    "        return bad_variable_name + 1\n",
    "    another_bad_variable_name = 1\n",
    "    bad_variable_name.append(another_bad_variable_name)\n",
    "    return sum(bad_variable_name)"
   ]
  },
  {
   "cell_type": "code",
   "execution_count": null,
   "metadata": {},
   "outputs": [],
   "source": [
    "bad_function_name(1)"
   ]
  },
  {
   "cell_type": "markdown",
   "metadata": {},
   "source": [
    "You test it and jeejj now it at least does not break on integers. You have no idea whether this is what the original programmer intended, but you are happy to leave the office at 5:30pm.<br>\n",
    "\n",
    "## Exercise\n",
    "1. What is the main problem with this code?\n",
    "2. How can a lack of understanding of the program and code lead to increasing problem during development? \n",
    "3. Why is it discouraged to use `type()` for anything but diagnostics?\n",
    "4. Rewrite the original function and give useful names to everything (assume an integer is not supported by the function)\n",
    "5. Would a future programmer make the same mistake again?"
   ]
  },
  {
   "cell_type": "markdown",
   "metadata": {},
   "source": [
    "## Answer"
   ]
  },
  {
   "cell_type": "code",
   "execution_count": null,
   "metadata": {},
   "outputs": [],
   "source": [
    "def sum_of_sequence(sequence: list) -> int:\n",
    "    baseline = 1\n",
    "    sequence.append(baseline)\n",
    "    return sum(sequence)\n",
    "\n",
    "numbers = list(range(5))\n",
    "sum_of_sequence(numbers)"
   ]
  },
  {
   "cell_type": "markdown",
   "metadata": {},
   "source": [
    "## 6 Assignment"
   ]
  },
  {
   "cell_type": "markdown",
   "metadata": {},
   "source": [
    "Being able to do a calculation like `1 + 1` actually does not get us far, without the ability give the result a name to reference it with.\n",
    "To give such a result a name we have to 'assign' it. Let's do an assignment."
   ]
  },
  {
   "cell_type": "code",
   "execution_count": null,
   "metadata": {},
   "outputs": [],
   "source": [
    "number_of_hands = 1 + 1\n",
    "\n",
    "# we can now reference the result with the name 'number_of_hands'\n",
    "print(number_of_hands)"
   ]
  },
  {
   "cell_type": "markdown",
   "metadata": {},
   "source": [
    "**I**n an actual program we want all values to be manipulated through their references (names)."
   ]
  },
  {
   "cell_type": "code",
   "execution_count": null,
   "metadata": {},
   "outputs": [],
   "source": [
    "fingers_on_left_hand = 5\n",
    "fingers_on_right_hand = 5\n",
    "\n",
    "fingers_on_both_hands = fingers_on_left_hand + fingers_on_right_hand\n",
    "print(fingers_on_both_hands)"
   ]
  },
  {
   "cell_type": "markdown",
   "metadata": {},
   "source": [
    "### Multiple assignment\n",
    "Use of multiple assigment makes Python applications elegant. It allows concise and readable code when multiple values are manipulated at once."
   ]
  },
  {
   "cell_type": "code",
   "execution_count": null,
   "metadata": {},
   "outputs": [],
   "source": [
    "fingers_on_left_hand, fingers_on_right_hand = 5, 5  # notice the ','"
   ]
  },
  {
   "cell_type": "code",
   "execution_count": null,
   "metadata": {},
   "outputs": [],
   "source": [
    "result_sum, result_substraction = 1 + 1, 1 - 1"
   ]
  },
  {
   "cell_type": "markdown",
   "metadata": {},
   "source": [
    "Python **3** has expanded this concept with the wildcard symbol `*`. The `*` is very hungry and eats up everything that follows it."
   ]
  },
  {
   "cell_type": "code",
   "execution_count": null,
   "metadata": {},
   "outputs": [],
   "source": [
    "first, *rest = 1, 2, 3, 4\n",
    "print('first', first)\n",
    "print('rest', rest)"
   ]
  }
 ],
 "metadata": {
  "kernelspec": {
   "display_name": "Python 3",
   "language": "python",
   "name": "python3"
  },
  "language_info": {
   "codemirror_mode": {
    "name": "ipython",
    "version": 3
   },
   "file_extension": ".py",
   "mimetype": "text/x-python",
   "name": "python",
   "nbconvert_exporter": "python",
   "pygments_lexer": "ipython3",
   "version": "3.7.4"
  }
 },
 "nbformat": 4,
 "nbformat_minor": 4
}
