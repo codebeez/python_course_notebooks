{
 "cells": [
  {
   "cell_type": "markdown",
   "metadata": {},
   "source": [
    "# Flow control in Python\n",
    "Python is known for its basic support for [flow control](https://docs.python.org/3.6/tutorial/controlflow.html). It is a limited set of tools aimed to keep things simple.\n",
    "\n",
    "## 1 IF-ELIF-ELSE-statement\n",
    "The `if` statement is the most promiment of the control flow Python buildins.<br>\n",
    "The `if` statement allows the program to make choices to alter the flow of the program.<br>\n",
    "On the basis of a `conditional statement` the program chooces between one or more `blocks` of code to execute.<br>\n",
    "If you find yourself relying on this technique to accommodate edge-cases, then you probably have a design problem"
   ]
  },
  {
   "cell_type": "code",
   "execution_count": null,
   "metadata": {},
   "outputs": [],
   "source": [
    "GOOD_CREDIT_RATING = 60.\n",
    "MIN_CREDIT_RATING = 50.\n",
    "\n",
    "credit_rating = 65\n",
    "\n",
    "if credit_rating >= MIN_CREDIT_RATING:\n",
    "    print('Perform manual check.')\n",
    "elif credit_rating >= GOOD_CREDIT_RATING: \n",
    "    print('Allow loan.')\n",
    "else:\n",
    "    print('Reject loan.')"
   ]
  },
  {
   "cell_type": "markdown",
   "metadata": {},
   "source": [
    "### Exercise\n",
    "1. Change the credit rating in the above example, do you understand the outcome?\n",
    "2. Change the order of the `if` and `elif` clauses. What is the effect on the outcome?"
   ]
  },
  {
   "cell_type": "code",
   "execution_count": null,
   "metadata": {},
   "outputs": [],
   "source": []
  },
  {
   "cell_type": "markdown",
   "metadata": {},
   "source": [
    "## 2 FOR-loop\n",
    "The main goal of the `for` loop is to walk over an iterator.<br>\n",
    "Many things in Python are an iterator. Usage of iterators by the `for` loop is implicit.<br>\n",
    "If you want to explicitely make an iterator you can call the `iter` function on an object and see if it supports iteration."
   ]
  },
  {
   "cell_type": "code",
   "execution_count": null,
   "metadata": {},
   "outputs": [],
   "source": [
    "transaction_ids = [10, 51, 100]\n",
    "for index, transaction_id in enumerate(transaction_ids):\n",
    "    print('index', index)\n",
    "    print('transaction', transaction_id)"
   ]
  },
  {
   "cell_type": "code",
   "execution_count": null,
   "metadata": {},
   "outputs": [],
   "source": [
    "iterator = iter(transaction_ids)\n",
    "\n",
    "for transaction_id in iterator:\n",
    "    print('transaction', transaction_id)"
   ]
  },
  {
   "cell_type": "markdown",
   "metadata": {},
   "source": [
    "Sometimes you want more than just each element from a collection. You want the 'index' of each element. The 'index' is an integer value that counts the elements as the `for` loop iterates over a collection. To get the 'index' with each element, use `enumerate`."
   ]
  },
  {
   "cell_type": "code",
   "execution_count": null,
   "metadata": {},
   "outputs": [],
   "source": [
    "top_five_foods = ['pizza', 'hamburgers', 'fries', 'donuts', 'quinoa']\n",
    "\n",
    "for place, food in enumerate(top_five_foods):\n",
    "    print(f'{place}: {food}')"
   ]
  },
  {
   "cell_type": "markdown",
   "metadata": {},
   "source": [
    "## Exercise\n",
    "Combine the `for`-loop with the `if`-`elif`-`else` statement to loop over the `top_five_foods` and eat the bottom food quinoa. \n",
    "1. Use an `if` statement on the `food` variable.\n",
    "2. Use an `if` statement on the `place` variable"
   ]
  },
  {
   "cell_type": "code",
   "execution_count": null,
   "metadata": {},
   "outputs": [],
   "source": []
  },
  {
   "cell_type": "markdown",
   "metadata": {},
   "source": [
    "### 2.1 Advanced: Iterator protocol\n",
    "The iterator protocol is an elegent concept that many modern languages support in more or less similar fashion (JS ES6, Ruby, Java 8, Go).\n",
    "\n",
    "An iterator is a object that supports lazy evaluation of steps until the end of the steps is reached and it throws an `StopIteration` exception. This `StopIteration` exception is catched by the calling code and signals the end of the `for`-loop.\n",
    "\n",
    "The main function of the iterator protocol is `next`. Calling `next` on an iterator makes it perform one 'step' and return the result (if any)."
   ]
  },
  {
   "cell_type": "code",
   "execution_count": null,
   "metadata": {},
   "outputs": [],
   "source": [
    "iterator = iter(transaction_ids)\n",
    "\n",
    "iterator.__next__()\n",
    "iterator.__next__()"
   ]
  },
  {
   "cell_type": "code",
   "execution_count": null,
   "metadata": {},
   "outputs": [],
   "source": [
    "iterator = iter(transaction_ids)\n",
    "\n",
    "print(next(iterator))\n",
    "print(next(iterator))\n",
    "print(next(iterator))\n",
    "print(next(iterator))"
   ]
  },
  {
   "cell_type": "markdown",
   "metadata": {},
   "source": [
    "## 3 WHILE-loop"
   ]
  },
  {
   "cell_type": "markdown",
   "metadata": {},
   "source": [
    "The `while` loop is not immediatly apparant as being a loop. A loop is a statement that leads to the execution of indented code block for a definable number of times.<br>\n",
    "How can the `while` loop be understood in this context?\n",
    "\n",
    "The `while` statement requires a boolean expression. If the boolean expression evaluates to `True` then the indented code block within the `while` statement is executed."
   ]
  },
  {
   "cell_type": "code",
   "execution_count": null,
   "metadata": {},
   "outputs": [],
   "source": [
    "number_of_to_do_items = 5\n",
    "while number_of_to_do_items:\n",
    "    print('execute to do task')\n",
    "    number_of_to_do_items -= 1\n",
    "    if number_of_to_do_items < 2:\n",
    "        break"
   ]
  },
  {
   "cell_type": "markdown",
   "metadata": {},
   "source": [
    "**nota bene** In Python the `while` loop has an `else` clause."
   ]
  },
  {
   "cell_type": "markdown",
   "metadata": {},
   "source": [
    "## Exercise\n",
    "Create a program that produces a list of the Fibonacci numbers smaller than 10,000 using a while loop.\n",
    "The number 1 appears twice in this list.\n",
    "Hint: use `.append` to add a number to the list \"fibonacci\".\n",
    "Hint: to get the last element of a `list`, use `list[-1]`\n",
    "\n",
    "The list with Fibonacci numbers\n",
    "`fibonacci = [0, 1]`\n",
    "\n",
    "`new_fibo = fibonacci[-2] + fibonacci[-1]`"
   ]
  },
  {
   "cell_type": "code",
   "execution_count": null,
   "metadata": {},
   "outputs": [],
   "source": []
  },
  {
   "cell_type": "markdown",
   "metadata": {},
   "source": [
    "## Answer"
   ]
  },
  {
   "cell_type": "code",
   "execution_count": null,
   "metadata": {},
   "outputs": [],
   "source": [
    "fibonacci = [0, 1]\n",
    "\n",
    "while fibonacci[-1] + fibonacci[-2] < 10000:\n",
    "    fibonacci.append(fibonacci[-2] + fibonacci[-1])\n",
    "\n",
    "print(fibonacci[-1])"
   ]
  },
  {
   "cell_type": "code",
   "execution_count": null,
   "metadata": {},
   "outputs": [],
   "source": []
  }
 ],
 "metadata": {
  "kernelspec": {
   "display_name": "Python 3",
   "language": "python",
   "name": "python3"
  },
  "language_info": {
   "codemirror_mode": {
    "name": "ipython",
    "version": 3
   },
   "file_extension": ".py",
   "mimetype": "text/x-python",
   "name": "python",
   "nbconvert_exporter": "python",
   "pygments_lexer": "ipython3",
   "version": "3.7.3"
  }
 },
 "nbformat": 4,
 "nbformat_minor": 2
}
