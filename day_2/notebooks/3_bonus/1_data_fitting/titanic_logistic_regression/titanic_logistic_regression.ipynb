{
 "cells": [
  {
   "cell_type": "code",
   "execution_count": null,
   "metadata": {},
   "outputs": [],
   "source": [
    "import numpy as np\n",
    "import pandas as pd\n",
    "from sklearn.linear_model import LogisticRegression\n",
    "from sklearn.metrics import classification_report, confusion_matrix, accuracy_score\n",
    "from sklearn.model_selection import train_test_split"
   ]
  },
  {
   "cell_type": "code",
   "execution_count": null,
   "metadata": {},
   "outputs": [],
   "source": [
    "def load_and_preprocess_data():\n",
    "    train_df = pd.read_csv('./data/train.csv')\n",
    "    cols = ['Pclass', 'Sex', 'Age']\n",
    "    #change male to 1 and female to 0\n",
    "    train_df['Sex'] = train_df['Sex'].apply(lambda sex:1 if sex=='male' else 0)\n",
    "    #handle missing values of age\n",
    "    train_df['Age'] = train_df['Age'].fillna(train_df['Age'].mean())\n",
    "    train_df['Fare'] = train_df['Fare'].fillna(train_df['Fare'].mean())\n",
    "    survived = train_df['Survived'].values\n",
    "    data = train_df[cols].values\n",
    "    X_train, X_test, y_train, y_test = train_test_split(data, survived, test_size=0.3,\n",
    "                                                        random_state=1)\n",
    "    return X_train, X_test, y_train, y_test\n",
    "\n",
    "def main():\n",
    "    X_train, X_test, y_train, y_test = load_and_preprocess_data()\n",
    "    model = learn_model(X_train, y_train)\n",
    "    return evaluate_model(model, X_test, y_test)"
   ]
  },
  {
   "cell_type": "markdown",
   "metadata": {},
   "source": [
    "# Exercise\n",
    "Implement the `learn_model` to fit a `LogisticRegression` model [documentation](http://scikit-learn.org/stable/modules/generated/sklearn.linear_model.LogisticRegression.html) to the data and implement `evaluate_model` to look at the performance of the fitted model and its predictions.\n",
    "\n",
    "1. `learn_model` returns the fitted model\n",
    "2. evaluate the model with the `accuracy_score` function. [documentation](http://scikit-learn.org/stable/modules/generated/sklearn.metrics.accuracy_score.html)\n",
    "3. also look at the `classification_report` function [documentation](http://scikit-learn.org/stable/modules/generated/sklearn.metrics.classification_report.html)"
   ]
  },
  {
   "cell_type": "code",
   "execution_count": null,
   "metadata": {},
   "outputs": [],
   "source": [
    "def learn_model(X_train, y_train):\n",
    "    pass\n",
    "\n",
    "def evaluate_model(model, X_test, y_test):\n",
    "    pass"
   ]
  },
  {
   "cell_type": "code",
   "execution_count": null,
   "metadata": {},
   "outputs": [],
   "source": [
    "# When you are ready execute the model training and evaluation\n",
    "main()"
   ]
  },
  {
   "cell_type": "code",
   "execution_count": null,
   "metadata": {},
   "outputs": [],
   "source": []
  }
 ],
 "metadata": {
  "kernelspec": {
   "display_name": "Python 3",
   "language": "python",
   "name": "python3"
  },
  "language_info": {
   "codemirror_mode": {
    "name": "ipython",
    "version": 3
   },
   "file_extension": ".py",
   "mimetype": "text/x-python",
   "name": "python",
   "nbconvert_exporter": "python",
   "pygments_lexer": "ipython3",
   "version": "3.7.4"
  }
 },
 "nbformat": 4,
 "nbformat_minor": 4
}
